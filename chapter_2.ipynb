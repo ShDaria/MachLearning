{
 "cells": [
  {
   "cell_type": "markdown",
   "metadata": {},
   "source": [
    "# Разложение временного ряда на тренд, сезональность остаток в соответствии с аддитивной и мультипликативной моделями"
   ]
  },
  {
   "cell_type": "code",
   "execution_count": null,
   "metadata": {
    "collapsed": true
   },
   "outputs": [],
   "source": [
    "def dfTest(dataset, flag):\n",
    "    test = sm.tsa.adfuller(dataset)\n",
    "    if test[0] > test[4]['10%']:\n",
    "        if (flag):\n",
    "            print ('есть единичные корни, ряд не стационарен')\n",
    "        return False\n",
    "    else:\n",
    "        if (flag):\n",
    "            print ('единичных корней нет, ряд стационарен')\n",
    "        return True"
   ]
  },
  {
   "cell_type": "code",
   "execution_count": null,
   "metadata": {
    "collapsed": true
   },
   "outputs": [],
   "source": [
    "def model(dataset, modelName):\n",
    "    decomposition = seasonal_decompose(dataset.Value, model = modelName)    \n",
    "    fig = plt.figure(figsize=(18,8))    \n",
    "    tmp = decomposition.trend\n",
    "    ax1 = fig.add_subplot(311)\n",
    "    ax1.plot(tmp)\n",
    "    ax1.set_title(\"Тренд\")\n",
    "    tmp.dropna(inplace=True)    \n",
    "    print ('Tренд:', end=\" \")\n",
    "    dfTest(tmp, True)\n",
    "    \n",
    "    tmp = decomposition.seasonal\n",
    "    ax2 = fig.add_subplot(312)\n",
    "    ax2.plot(tmp)\n",
    "    ax2.set_title('Сезональность')\n",
    "    tmp.dropna(inplace=True)    \n",
    "    print ('Сезональность:', end=\" \")\n",
    "    dfTest(tmp, True)\n",
    "    \n",
    "    tmp = decomposition.resid\n",
    "    ax3 = fig.add_subplot(313)\n",
    "    ax3.plot(tmp)\n",
    "    ax3.set_title('Остаток')\n",
    "    tmp.dropna(inplace=True)    \n",
    "    print ('Остаток:', end=\" \")\n",
    "    dfTest(tmp, True)\n",
    "    \n",
    "    plt.show()"
   ]
  },
  {
   "cell_type": "markdown",
   "metadata": {},
   "source": [
    "##  Аддитивная модель"
   ]
  },
  {
   "cell_type": "code",
   "execution_count": null,
   "metadata": {
    "collapsed": true
   },
   "outputs": [],
   "source": [
    "model(dataset, 'additive')"
   ]
  },
  {
   "cell_type": "markdown",
   "metadata": {},
   "source": [
    "##  Мультипликативная модель"
   ]
  },
  {
   "cell_type": "code",
   "execution_count": null,
   "metadata": {
    "collapsed": true
   },
   "outputs": [],
   "source": [
    "model(dataset, 'multiplicate')"
   ]
  }
 ],
 "metadata": {
  "kernelspec": {
   "display_name": "Python 3",
   "language": "python",
   "name": "python3"
  },
  "language_info": {
   "codemirror_mode": {
    "name": "ipython",
    "version": 3
   },
   "file_extension": ".py",
   "mimetype": "text/x-python",
   "name": "python",
   "nbconvert_exporter": "python",
   "pygments_lexer": "ipython3",
   "version": "3.6.3"
  }
 },
 "nbformat": 4,
 "nbformat_minor": 2
}
