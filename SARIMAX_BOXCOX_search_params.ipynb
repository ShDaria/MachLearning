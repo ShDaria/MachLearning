{
 "cells": [
  {
   "cell_type": "code",
   "execution_count": 9,
   "metadata": {},
   "outputs": [],
   "source": [
    "# -*- coding: utf-8 -*-\n",
    "from pandas import read_csv, DataFrame\n",
    "import matplotlib.pyplot as plt\n",
    "from statsmodels.tsa.stattools import acf, pacf\n",
    "from statsmodels.tsa.arima_model import ARIMA\n",
    "from statsmodels.tsa.seasonal import seasonal_decompose\n",
    "from itertools import product\n",
    "import warnings\n",
    "from sklearn.metrics import r2_score\n",
    "\n",
    "import pandas as pd\n",
    "import numpy as np\n",
    "from scipy import stats\n",
    "\n",
    "import statsmodels.api as sm\n",
    "\n",
    "def invboxcox(x, lmbda = 0):\n",
    "    if lmbda == 0:\n",
    "        return(np.exp(x))\n",
    "    else:\n",
    "        return(np.exp(np.log(lmbda * x + 1) / lmbda))"
   ]
  },
  {
   "cell_type": "code",
   "execution_count": 10,
   "metadata": {
    "collapsed": true
   },
   "outputs": [],
   "source": [
    "dataset = read_csv('training.csv',\n",
    "                     ',',\n",
    "                     index_col=['Date'],\n",
    "                     parse_dates=['Date'],\n",
    "                     dayfirst=True)"
   ]
  },
  {
   "cell_type": "code",
   "execution_count": 11,
   "metadata": {},
   "outputs": [],
   "source": [
    "dataset['Value_boxcox'], lmbda = stats.boxcox(dataset.Value)"
   ]
  },
  {
   "cell_type": "code",
   "execution_count": 12,
   "metadata": {
    "scrolled": false
   },
   "outputs": [
    {
     "name": "stdout",
     "output_type": "stream",
     "text": [
      "Computing...\n",
      "(1, 0, 0, 0, 12) 831.089051977\n",
      "Computing...\n",
      "Computing...\n",
      "(1, 0, 0, 2, 12) 825.187827012\n",
      "Computing...\n",
      "(1, 1, 0, 0, 12) 822.239168564\n",
      "Computing...\n",
      "Computing...\n",
      "(1, 1, 0, 2, 12) 813.89219899\n",
      "Computing...\n",
      "Computing...\n",
      "Computing...\n",
      "(1, 2, 0, 2, 12) 813.346130042\n",
      "Computing...\n",
      "Computing...\n",
      "Computing...\n",
      "Computing...\n",
      "Computing...\n",
      "Computing...\n",
      "Computing...\n",
      "Computing...\n",
      "Computing...\n",
      "(1, 5, 0, 2, 12) 807.087864123\n",
      "Computing...\n",
      "Computing...\n",
      "Computing...\n",
      "(1, 6, 0, 2, 12) 806.464458982\n",
      "Computing...\n",
      "Computing...\n",
      "Computing...\n",
      "Computing...\n",
      "Computing...\n",
      "Computing...\n",
      "Computing...\n",
      "Computing...\n",
      "Computing...\n",
      "Computing...\n",
      "Computing...\n",
      "Computing...\n",
      "Computing...\n",
      "Computing...\n",
      "Computing...\n",
      "Computing...\n",
      "Computing...\n",
      "Computing...\n",
      "Computing...\n",
      "Computing...\n",
      "Computing...\n",
      "Computing...\n",
      "Computing...\n",
      "Computing...\n",
      "          parameters         aic\n",
      "20  (1, 6, 0, 2, 12)  806.464459\n",
      "17  (1, 5, 0, 2, 12)  807.087864\n",
      "23  (1, 7, 0, 2, 12)  809.711144\n",
      "26  (1, 8, 0, 2, 12)  812.414274\n",
      "8   (1, 2, 0, 2, 12)  813.346130\n"
     ]
    }
   ],
   "source": [
    "from statsmodels.tsa.statespace.sarimax import SARIMAX\n",
    "\n",
    "Qs = range(0, 3)\n",
    "qs = range(0, 15)\n",
    "Ps = range(0, 1)\n",
    "ps = range(1, 2)\n",
    "d = 1\n",
    "D = 0\n",
    "S = range(12, 13)\n",
    "\n",
    "parameters = product(ps, qs, Ps, Qs, S)\n",
    "parameters_list = list(parameters)\n",
    "\n",
    "results = []\n",
    "best_aic = float(\"inf\")\n",
    "warnings.filterwarnings('ignore')\n",
    "\n",
    "for param in parameters_list:\n",
    "    try:\n",
    "        model = SARIMAX(dataset.Value_boxcox, \n",
    "                        order=(param[0], d, param[1]), \n",
    "                        seasonal_order = (param[2], \n",
    "                                          D, \n",
    "                                          param[3],\n",
    "                                          param[4])).fit(disp = -1)\n",
    "    except:\n",
    "        print 'waring parametrs:', param\n",
    "        continue\n",
    "    print 'Computing...'\n",
    "    if model.aic < best_aic:\n",
    "        best_model = model\n",
    "        best_aic = model.aic\n",
    "        best_param = param\n",
    "        print param, model.aic\n",
    "    results.append([param, model.aic])\n",
    "    \n",
    "\n",
    "warnings.filterwarnings('default')\n",
    "\n",
    "result_table = DataFrame(results)\n",
    "result_table.columns = ['parameters', 'aic']\n",
    "print result_table.sort_values(by = 'aic', ascending = [True]).head()\n"
   ]
  }
 ],
 "metadata": {
  "kernelspec": {
   "display_name": "Python 2",
   "language": "python",
   "name": "python2"
  },
  "language_info": {
   "codemirror_mode": {
    "name": "ipython",
    "version": 2
   },
   "file_extension": ".py",
   "mimetype": "text/x-python",
   "name": "python",
   "nbconvert_exporter": "python",
   "pygments_lexer": "ipython2",
   "version": "2.7.13"
  }
 },
 "nbformat": 4,
 "nbformat_minor": 2
}
